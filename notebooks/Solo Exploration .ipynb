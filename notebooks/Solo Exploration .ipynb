{
 "cells": [
  {
   "cell_type": "markdown",
   "id": "1b4b524c",
   "metadata": {},
   "source": [
    "## Solo Exploration Project - UN Data: Per capita government expenditure on health"
   ]
  },
  {
   "cell_type": "code",
   "execution_count": 1,
   "id": "9cd2ea33",
   "metadata": {},
   "outputs": [],
   "source": [
    "import pandas as pd\n",
    "import numpy as np\n",
    "import matplotlib.pyplot as plt\n",
    "import seaborn as sns"
   ]
  },
  {
   "cell_type": "markdown",
   "id": "c4bf6bee",
   "metadata": {},
   "source": [
    "The first step is to read the data into a pandas DataFrame so the we can manipulate it later as needed."
   ]
  },
  {
   "cell_type": "code",
   "execution_count": 2,
   "id": "99cdd9a5",
   "metadata": {},
   "outputs": [],
   "source": [
    "gov_health_exp = pd.read_csv('../Data/health expenditure.csv')"
   ]
  },
  {
   "cell_type": "markdown",
   "id": "45d8383e",
   "metadata": {},
   "source": [
    "Inspected dataframe using `.head()`, `.tail()`, `.info()`,`.shape` methods."
   ]
  },
  {
   "cell_type": "code",
   "execution_count": 3,
   "id": "a7ea5493",
   "metadata": {},
   "outputs": [
    {
     "data": {
      "text/html": [
       "<div>\n",
       "<style scoped>\n",
       "    .dataframe tbody tr th:only-of-type {\n",
       "        vertical-align: middle;\n",
       "    }\n",
       "\n",
       "    .dataframe tbody tr th {\n",
       "        vertical-align: top;\n",
       "    }\n",
       "\n",
       "    .dataframe thead th {\n",
       "        text-align: right;\n",
       "    }\n",
       "</style>\n",
       "<table border=\"1\" class=\"dataframe\">\n",
       "  <thead>\n",
       "    <tr style=\"text-align: right;\">\n",
       "      <th></th>\n",
       "      <th>Country or Area</th>\n",
       "      <th>Year(s)</th>\n",
       "      <th>Value</th>\n",
       "      <th>Value Footnotes</th>\n",
       "    </tr>\n",
       "  </thead>\n",
       "  <tbody>\n",
       "    <tr>\n",
       "      <th>0</th>\n",
       "      <td>Afghanistan</td>\n",
       "      <td>2011</td>\n",
       "      <td>7.9</td>\n",
       "      <td>NaN</td>\n",
       "    </tr>\n",
       "    <tr>\n",
       "      <th>1</th>\n",
       "      <td>Afghanistan</td>\n",
       "      <td>2010</td>\n",
       "      <td>11.8</td>\n",
       "      <td>NaN</td>\n",
       "    </tr>\n",
       "    <tr>\n",
       "      <th>2</th>\n",
       "      <td>Afghanistan</td>\n",
       "      <td>2009</td>\n",
       "      <td>8.4</td>\n",
       "      <td>NaN</td>\n",
       "    </tr>\n",
       "    <tr>\n",
       "      <th>3</th>\n",
       "      <td>Afghanistan</td>\n",
       "      <td>2008</td>\n",
       "      <td>1.8</td>\n",
       "      <td>NaN</td>\n",
       "    </tr>\n",
       "    <tr>\n",
       "      <th>4</th>\n",
       "      <td>Afghanistan</td>\n",
       "      <td>2007</td>\n",
       "      <td>3.1</td>\n",
       "      <td>NaN</td>\n",
       "    </tr>\n",
       "  </tbody>\n",
       "</table>\n",
       "</div>"
      ],
      "text/plain": [
       "  Country or Area  Year(s)  Value  Value Footnotes\n",
       "0     Afghanistan     2011    7.9              NaN\n",
       "1     Afghanistan     2010   11.8              NaN\n",
       "2     Afghanistan     2009    8.4              NaN\n",
       "3     Afghanistan     2008    1.8              NaN\n",
       "4     Afghanistan     2007    3.1              NaN"
      ]
     },
     "execution_count": 3,
     "metadata": {},
     "output_type": "execute_result"
    }
   ],
   "source": [
    "gov_health_exp.head()"
   ]
  },
  {
   "cell_type": "code",
   "execution_count": 4,
   "id": "d9e2cccb",
   "metadata": {},
   "outputs": [
    {
     "data": {
      "text/html": [
       "<div>\n",
       "<style scoped>\n",
       "    .dataframe tbody tr th:only-of-type {\n",
       "        vertical-align: middle;\n",
       "    }\n",
       "\n",
       "    .dataframe tbody tr th {\n",
       "        vertical-align: top;\n",
       "    }\n",
       "\n",
       "    .dataframe thead th {\n",
       "        text-align: right;\n",
       "    }\n",
       "</style>\n",
       "<table border=\"1\" class=\"dataframe\">\n",
       "  <thead>\n",
       "    <tr style=\"text-align: right;\">\n",
       "      <th></th>\n",
       "      <th>Country or Area</th>\n",
       "      <th>Year(s)</th>\n",
       "      <th>Value</th>\n",
       "      <th>Value Footnotes</th>\n",
       "    </tr>\n",
       "  </thead>\n",
       "  <tbody>\n",
       "    <tr>\n",
       "      <th>3236</th>\n",
       "      <td>Zimbabwe</td>\n",
       "      <td>1999</td>\n",
       "      <td>27.0</td>\n",
       "      <td>NaN</td>\n",
       "    </tr>\n",
       "    <tr>\n",
       "      <th>3237</th>\n",
       "      <td>Zimbabwe</td>\n",
       "      <td>1998</td>\n",
       "      <td>46.2</td>\n",
       "      <td>NaN</td>\n",
       "    </tr>\n",
       "    <tr>\n",
       "      <th>3238</th>\n",
       "      <td>Zimbabwe</td>\n",
       "      <td>1997</td>\n",
       "      <td>63.3</td>\n",
       "      <td>NaN</td>\n",
       "    </tr>\n",
       "    <tr>\n",
       "      <th>3239</th>\n",
       "      <td>Zimbabwe</td>\n",
       "      <td>1996</td>\n",
       "      <td>71.8</td>\n",
       "      <td>NaN</td>\n",
       "    </tr>\n",
       "    <tr>\n",
       "      <th>3240</th>\n",
       "      <td>Zimbabwe</td>\n",
       "      <td>1995</td>\n",
       "      <td>79.5</td>\n",
       "      <td>NaN</td>\n",
       "    </tr>\n",
       "  </tbody>\n",
       "</table>\n",
       "</div>"
      ],
      "text/plain": [
       "     Country or Area  Year(s)  Value  Value Footnotes\n",
       "3236        Zimbabwe     1999   27.0              NaN\n",
       "3237        Zimbabwe     1998   46.2              NaN\n",
       "3238        Zimbabwe     1997   63.3              NaN\n",
       "3239        Zimbabwe     1996   71.8              NaN\n",
       "3240        Zimbabwe     1995   79.5              NaN"
      ]
     },
     "execution_count": 4,
     "metadata": {},
     "output_type": "execute_result"
    }
   ],
   "source": [
    "gov_health_exp.tail()"
   ]
  },
  {
   "cell_type": "code",
   "execution_count": 5,
   "id": "5ab9ef9c",
   "metadata": {},
   "outputs": [
    {
     "name": "stdout",
     "output_type": "stream",
     "text": [
      "<class 'pandas.core.frame.DataFrame'>\n",
      "RangeIndex: 3241 entries, 0 to 3240\n",
      "Data columns (total 4 columns):\n",
      " #   Column           Non-Null Count  Dtype  \n",
      "---  ------           --------------  -----  \n",
      " 0   Country or Area  3241 non-null   object \n",
      " 1   Year(s)          3241 non-null   int64  \n",
      " 2   Value            3241 non-null   float64\n",
      " 3   Value Footnotes  0 non-null      float64\n",
      "dtypes: float64(2), int64(1), object(1)\n",
      "memory usage: 101.4+ KB\n"
     ]
    }
   ],
   "source": [
    "gov_health_exp.info()"
   ]
  },
  {
   "cell_type": "markdown",
   "id": "516a49e8",
   "metadata": {},
   "source": [
    "info() function to reprsent rows and columns does gov_health_exp dataframe contains and types of data present in its column. "
   ]
  },
  {
   "cell_type": "markdown",
   "id": "7514ea4e",
   "metadata": {},
   "source": [
    "Modified gov_health_exp datafrme using `.drop()` and `.rename()`."
   ]
  },
  {
   "cell_type": "code",
   "execution_count": 6,
   "id": "36813319",
   "metadata": {},
   "outputs": [
    {
     "name": "stdout",
     "output_type": "stream",
     "text": [
      "          Country  Year  Per_Capita_Expenditure\n",
      "0     Afghanistan  2011                     7.9\n",
      "1     Afghanistan  2010                    11.8\n",
      "2     Afghanistan  2009                     8.4\n",
      "3     Afghanistan  2008                     1.8\n",
      "4     Afghanistan  2007                     3.1\n",
      "...           ...   ...                     ...\n",
      "3236     Zimbabwe  1999                    27.0\n",
      "3237     Zimbabwe  1998                    46.2\n",
      "3238     Zimbabwe  1997                    63.3\n",
      "3239     Zimbabwe  1996                    71.8\n",
      "3240     Zimbabwe  1995                    79.5\n",
      "\n",
      "[3241 rows x 3 columns]\n"
     ]
    }
   ],
   "source": [
    "gov_health_exp = gov_health_exp.drop(columns = 'Value Footnotes')\n",
    "gov_health_exp = gov_health_exp.rename(columns = {'Country or Area':'Country', 'Year(s)':'Year', 'Value': 'Per_Capita_Expenditure'})\n",
    "print (gov_health_exp)"
   ]
  },
  {
   "cell_type": "code",
   "execution_count": 7,
   "id": "5816ea0a",
   "metadata": {},
   "outputs": [
    {
     "data": {
      "text/plain": [
       "1995    189\n",
       "1996    190\n",
       "1997    190\n",
       "1998    191\n",
       "1999    191\n",
       "2000    191\n",
       "2001    192\n",
       "2002    191\n",
       "2003    191\n",
       "2004    191\n",
       "2005    191\n",
       "2006    191\n",
       "2007    191\n",
       "2008    191\n",
       "2009    190\n",
       "2010    190\n",
       "2011    190\n",
       "Name: Year, dtype: int64"
      ]
     },
     "execution_count": 7,
     "metadata": {},
     "output_type": "execute_result"
    }
   ],
   "source": [
    "gov_health_exp[\"Year\"].value_counts().sort_index()"
   ]
  },
  {
   "cell_type": "code",
   "execution_count": 8,
   "id": "43e77293",
   "metadata": {},
   "outputs": [
    {
     "data": {
      "text/plain": [
       "193"
      ]
     },
     "execution_count": 8,
     "metadata": {},
     "output_type": "execute_result"
    }
   ],
   "source": [
    "gov_health_exp[\"Country\"].nunique()"
   ]
  },
  {
   "cell_type": "markdown",
   "id": "a9685cec",
   "metadata": {},
   "source": [
    " Used value_count() to see how many countries are included in data set and data is available for how many years for each country"
   ]
  },
  {
   "cell_type": "markdown",
   "id": "9b781b06",
   "metadata": {},
   "source": [
    "Created new dataframe gov_health_exp_2010 by subsetting gov_health_exp. "
   ]
  },
  {
   "cell_type": "code",
   "execution_count": 9,
   "id": "39c251cf",
   "metadata": {},
   "outputs": [
    {
     "data": {
      "text/html": [
       "<div>\n",
       "<style scoped>\n",
       "    .dataframe tbody tr th:only-of-type {\n",
       "        vertical-align: middle;\n",
       "    }\n",
       "\n",
       "    .dataframe tbody tr th {\n",
       "        vertical-align: top;\n",
       "    }\n",
       "\n",
       "    .dataframe thead th {\n",
       "        text-align: right;\n",
       "    }\n",
       "</style>\n",
       "<table border=\"1\" class=\"dataframe\">\n",
       "  <thead>\n",
       "    <tr style=\"text-align: right;\">\n",
       "      <th></th>\n",
       "      <th>Country</th>\n",
       "      <th>Year</th>\n",
       "      <th>Per_Capita_Expenditure</th>\n",
       "    </tr>\n",
       "  </thead>\n",
       "  <tbody>\n",
       "    <tr>\n",
       "      <th>1</th>\n",
       "      <td>Afghanistan</td>\n",
       "      <td>2010</td>\n",
       "      <td>11.8</td>\n",
       "    </tr>\n",
       "    <tr>\n",
       "      <th>11</th>\n",
       "      <td>Albania</td>\n",
       "      <td>2010</td>\n",
       "      <td>217.3</td>\n",
       "    </tr>\n",
       "    <tr>\n",
       "      <th>28</th>\n",
       "      <td>Algeria</td>\n",
       "      <td>2010</td>\n",
       "      <td>291.0</td>\n",
       "    </tr>\n",
       "    <tr>\n",
       "      <th>45</th>\n",
       "      <td>Andorra</td>\n",
       "      <td>2010</td>\n",
       "      <td>2293.1</td>\n",
       "    </tr>\n",
       "    <tr>\n",
       "      <th>62</th>\n",
       "      <td>Angola</td>\n",
       "      <td>2010</td>\n",
       "      <td>118.3</td>\n",
       "    </tr>\n",
       "    <tr>\n",
       "      <th>...</th>\n",
       "      <td>...</td>\n",
       "      <td>...</td>\n",
       "      <td>...</td>\n",
       "    </tr>\n",
       "    <tr>\n",
       "      <th>3151</th>\n",
       "      <td>Vanuatu</td>\n",
       "      <td>2010</td>\n",
       "      <td>207.3</td>\n",
       "    </tr>\n",
       "    <tr>\n",
       "      <th>3168</th>\n",
       "      <td>Venezuela (Bolivarian Republic of)</td>\n",
       "      <td>2010</td>\n",
       "      <td>248.9</td>\n",
       "    </tr>\n",
       "    <tr>\n",
       "      <th>3185</th>\n",
       "      <td>Viet Nam</td>\n",
       "      <td>2010</td>\n",
       "      <td>80.1</td>\n",
       "    </tr>\n",
       "    <tr>\n",
       "      <th>3202</th>\n",
       "      <td>Yemen</td>\n",
       "      <td>2010</td>\n",
       "      <td>32.5</td>\n",
       "    </tr>\n",
       "    <tr>\n",
       "      <th>3219</th>\n",
       "      <td>Zambia</td>\n",
       "      <td>2010</td>\n",
       "      <td>55.7</td>\n",
       "    </tr>\n",
       "  </tbody>\n",
       "</table>\n",
       "<p>190 rows × 3 columns</p>\n",
       "</div>"
      ],
      "text/plain": [
       "                                 Country  Year  Per_Capita_Expenditure\n",
       "1                            Afghanistan  2010                    11.8\n",
       "11                               Albania  2010                   217.3\n",
       "28                               Algeria  2010                   291.0\n",
       "45                               Andorra  2010                  2293.1\n",
       "62                                Angola  2010                   118.3\n",
       "...                                  ...   ...                     ...\n",
       "3151                             Vanuatu  2010                   207.3\n",
       "3168  Venezuela (Bolivarian Republic of)  2010                   248.9\n",
       "3185                            Viet Nam  2010                    80.1\n",
       "3202                               Yemen  2010                    32.5\n",
       "3219                              Zambia  2010                    55.7\n",
       "\n",
       "[190 rows x 3 columns]"
      ]
     },
     "execution_count": 9,
     "metadata": {},
     "output_type": "execute_result"
    }
   ],
   "source": [
    "gov_health_exp_2010 = gov_health_exp[gov_health_exp['Year'] == 2010]\n",
    "gov_health_exp_2010"
   ]
  },
  {
   "cell_type": "code",
   "execution_count": 10,
   "id": "3d935ba7",
   "metadata": {},
   "outputs": [
    {
     "data": {
      "text/html": [
       "<div>\n",
       "<style scoped>\n",
       "    .dataframe tbody tr th:only-of-type {\n",
       "        vertical-align: middle;\n",
       "    }\n",
       "\n",
       "    .dataframe tbody tr th {\n",
       "        vertical-align: top;\n",
       "    }\n",
       "\n",
       "    .dataframe thead th {\n",
       "        text-align: right;\n",
       "    }\n",
       "</style>\n",
       "<table border=\"1\" class=\"dataframe\">\n",
       "  <thead>\n",
       "    <tr style=\"text-align: right;\">\n",
       "      <th></th>\n",
       "      <th>Year</th>\n",
       "      <th>Per_Capita_Expenditure</th>\n",
       "    </tr>\n",
       "  </thead>\n",
       "  <tbody>\n",
       "    <tr>\n",
       "      <th>count</th>\n",
       "      <td>190.0</td>\n",
       "      <td>190.000000</td>\n",
       "    </tr>\n",
       "    <tr>\n",
       "      <th>mean</th>\n",
       "      <td>2010.0</td>\n",
       "      <td>752.096842</td>\n",
       "    </tr>\n",
       "    <tr>\n",
       "      <th>std</th>\n",
       "      <td>0.0</td>\n",
       "      <td>1093.032165</td>\n",
       "    </tr>\n",
       "    <tr>\n",
       "      <th>min</th>\n",
       "      <td>2010.0</td>\n",
       "      <td>3.100000</td>\n",
       "    </tr>\n",
       "    <tr>\n",
       "      <th>25%</th>\n",
       "      <td>2010.0</td>\n",
       "      <td>76.900000</td>\n",
       "    </tr>\n",
       "    <tr>\n",
       "      <th>50%</th>\n",
       "      <td>2010.0</td>\n",
       "      <td>283.550000</td>\n",
       "    </tr>\n",
       "    <tr>\n",
       "      <th>75%</th>\n",
       "      <td>2010.0</td>\n",
       "      <td>852.250000</td>\n",
       "    </tr>\n",
       "    <tr>\n",
       "      <th>max</th>\n",
       "      <td>2010.0</td>\n",
       "      <td>5660.100000</td>\n",
       "    </tr>\n",
       "  </tbody>\n",
       "</table>\n",
       "</div>"
      ],
      "text/plain": [
       "         Year  Per_Capita_Expenditure\n",
       "count   190.0              190.000000\n",
       "mean   2010.0              752.096842\n",
       "std       0.0             1093.032165\n",
       "min    2010.0                3.100000\n",
       "25%    2010.0               76.900000\n",
       "50%    2010.0              283.550000\n",
       "75%    2010.0              852.250000\n",
       "max    2010.0             5660.100000"
      ]
     },
     "execution_count": 10,
     "metadata": {},
     "output_type": "execute_result"
    }
   ],
   "source": [
    "gov_health_exp_2010.describe()"
   ]
  },
  {
   "cell_type": "code",
   "execution_count": 11,
   "id": "d6e9af2d",
   "metadata": {},
   "outputs": [
    {
     "data": {
      "image/png": "[encoded data removed]",
      "text/plain": [
       "<Figure size 432x288 with 1 Axes>"
      ]
     },
     "metadata": {
      "needs_background": "light"
     },
     "output_type": "display_data"
    }
   ],
   "source": [
    "plt.hist(gov_health_exp_2010['Per_Capita_Expenditure'], bins=12, edgecolor = 'black');\n",
    "plt.xlabel('Per_Capita_Expenditure')\n",
    "plt.ylabel('Number of Countries');"
   ]
  },
  {
   "cell_type": "code",
   "execution_count": 12,
   "id": "6682282c",
   "metadata": {},
   "outputs": [
    {
     "data": {
      "text/html": [
       "<div>\n",
       "<style scoped>\n",
       "    .dataframe tbody tr th:only-of-type {\n",
       "        vertical-align: middle;\n",
       "    }\n",
       "\n",
       "    .dataframe tbody tr th {\n",
       "        vertical-align: top;\n",
       "    }\n",
       "\n",
       "    .dataframe thead th {\n",
       "        text-align: right;\n",
       "    }\n",
       "</style>\n",
       "<table border=\"1\" class=\"dataframe\">\n",
       "  <thead>\n",
       "    <tr style=\"text-align: right;\">\n",
       "      <th></th>\n",
       "      <th>Country</th>\n",
       "      <th>Year</th>\n",
       "      <th>Per_Capita_Expenditure</th>\n",
       "    </tr>\n",
       "  </thead>\n",
       "  <tbody>\n",
       "    <tr>\n",
       "      <th>1670</th>\n",
       "      <td>Luxembourg</td>\n",
       "      <td>2010</td>\n",
       "      <td>5660.1</td>\n",
       "    </tr>\n",
       "    <tr>\n",
       "      <th>1874</th>\n",
       "      <td>Monaco</td>\n",
       "      <td>2010</td>\n",
       "      <td>5238.1</td>\n",
       "    </tr>\n",
       "    <tr>\n",
       "      <th>2129</th>\n",
       "      <td>Norway</td>\n",
       "      <td>2010</td>\n",
       "      <td>4610.0</td>\n",
       "    </tr>\n",
       "    <tr>\n",
       "      <th>2027</th>\n",
       "      <td>Netherlands</td>\n",
       "      <td>2010</td>\n",
       "      <td>4335.3</td>\n",
       "    </tr>\n",
       "    <tr>\n",
       "      <th>3100</th>\n",
       "      <td>United States of America</td>\n",
       "      <td>2010</td>\n",
       "      <td>3966.7</td>\n",
       "    </tr>\n",
       "    <tr>\n",
       "      <th>...</th>\n",
       "      <td>...</td>\n",
       "      <td>...</td>\n",
       "      <td>...</td>\n",
       "    </tr>\n",
       "    <tr>\n",
       "      <th>555</th>\n",
       "      <td>Chad</td>\n",
       "      <td>2010</td>\n",
       "      <td>14.9</td>\n",
       "    </tr>\n",
       "    <tr>\n",
       "      <th>1</th>\n",
       "      <td>Afghanistan</td>\n",
       "      <td>2010</td>\n",
       "      <td>11.8</td>\n",
       "    </tr>\n",
       "    <tr>\n",
       "      <th>943</th>\n",
       "      <td>Eritrea</td>\n",
       "      <td>2010</td>\n",
       "      <td>7.7</td>\n",
       "    </tr>\n",
       "    <tr>\n",
       "      <th>790</th>\n",
       "      <td>Democratic Republic of the Congo</td>\n",
       "      <td>2010</td>\n",
       "      <td>7.4</td>\n",
       "    </tr>\n",
       "    <tr>\n",
       "      <th>1959</th>\n",
       "      <td>Myanmar</td>\n",
       "      <td>2010</td>\n",
       "      <td>3.1</td>\n",
       "    </tr>\n",
       "  </tbody>\n",
       "</table>\n",
       "<p>190 rows × 3 columns</p>\n",
       "</div>"
      ],
      "text/plain": [
       "                               Country  Year  Per_Capita_Expenditure\n",
       "1670                        Luxembourg  2010                  5660.1\n",
       "1874                            Monaco  2010                  5238.1\n",
       "2129                            Norway  2010                  4610.0\n",
       "2027                       Netherlands  2010                  4335.3\n",
       "3100          United States of America  2010                  3966.7\n",
       "...                                ...   ...                     ...\n",
       "555                               Chad  2010                    14.9\n",
       "1                          Afghanistan  2010                    11.8\n",
       "943                            Eritrea  2010                     7.7\n",
       "790   Democratic Republic of the Congo  2010                     7.4\n",
       "1959                           Myanmar  2010                     3.1\n",
       "\n",
       "[190 rows x 3 columns]"
      ]
     },
     "execution_count": 12,
     "metadata": {},
     "output_type": "execute_result"
    }
   ],
   "source": [
    "gov_health_exp_2010.sort_values('Per_Capita_Expenditure', ascending = False)"
   ]
  },
  {
   "cell_type": "code",
   "execution_count": 20,
   "id": "d10a67c2",
   "metadata": {},
   "outputs": [
    {
     "data": {
      "text/html": [
       "<div>\n",
       "<style scoped>\n",
       "    .dataframe tbody tr th:only-of-type {\n",
       "        vertical-align: middle;\n",
       "    }\n",
       "\n",
       "    .dataframe tbody tr th {\n",
       "        vertical-align: top;\n",
       "    }\n",
       "\n",
       "    .dataframe thead th {\n",
       "        text-align: right;\n",
       "    }\n",
       "</style>\n",
       "<table border=\"1\" class=\"dataframe\">\n",
       "  <thead>\n",
       "    <tr style=\"text-align: right;\">\n",
       "      <th>Year</th>\n",
       "      <th>2000</th>\n",
       "      <th>2010</th>\n",
       "    </tr>\n",
       "    <tr>\n",
       "      <th>Country</th>\n",
       "      <th></th>\n",
       "      <th></th>\n",
       "    </tr>\n",
       "  </thead>\n",
       "  <tbody>\n",
       "    <tr>\n",
       "      <th>Albania</th>\n",
       "      <td>96.2</td>\n",
       "      <td>217.3</td>\n",
       "    </tr>\n",
       "    <tr>\n",
       "      <th>Algeria</th>\n",
       "      <td>138.0</td>\n",
       "      <td>291.0</td>\n",
       "    </tr>\n",
       "    <tr>\n",
       "      <th>Andorra</th>\n",
       "      <td>1275.3</td>\n",
       "      <td>2293.1</td>\n",
       "    </tr>\n",
       "    <tr>\n",
       "      <th>Angola</th>\n",
       "      <td>36.8</td>\n",
       "      <td>118.3</td>\n",
       "    </tr>\n",
       "    <tr>\n",
       "      <th>Antigua and Barbuda</th>\n",
       "      <td>394.5</td>\n",
       "      <td>694.1</td>\n",
       "    </tr>\n",
       "    <tr>\n",
       "      <th>...</th>\n",
       "      <td>...</td>\n",
       "      <td>...</td>\n",
       "    </tr>\n",
       "    <tr>\n",
       "      <th>Vanuatu</th>\n",
       "      <td>92.1</td>\n",
       "      <td>207.3</td>\n",
       "    </tr>\n",
       "    <tr>\n",
       "      <th>Venezuela (Bolivarian Republic of)</th>\n",
       "      <td>200.0</td>\n",
       "      <td>248.9</td>\n",
       "    </tr>\n",
       "    <tr>\n",
       "      <th>Viet Nam</th>\n",
       "      <td>22.8</td>\n",
       "      <td>80.1</td>\n",
       "    </tr>\n",
       "    <tr>\n",
       "      <th>Yemen</th>\n",
       "      <td>47.1</td>\n",
       "      <td>32.5</td>\n",
       "    </tr>\n",
       "    <tr>\n",
       "      <th>Zambia</th>\n",
       "      <td>26.5</td>\n",
       "      <td>55.7</td>\n",
       "    </tr>\n",
       "  </tbody>\n",
       "</table>\n",
       "<p>189 rows × 2 columns</p>\n",
       "</div>"
      ],
      "text/plain": [
       "Year                                  2000    2010\n",
       "Country                                           \n",
       "Albania                               96.2   217.3\n",
       "Algeria                              138.0   291.0\n",
       "Andorra                             1275.3  2293.1\n",
       "Angola                                36.8   118.3\n",
       "Antigua and Barbuda                  394.5   694.1\n",
       "...                                    ...     ...\n",
       "Vanuatu                               92.1   207.3\n",
       "Venezuela (Bolivarian Republic of)   200.0   248.9\n",
       "Viet Nam                              22.8    80.1\n",
       "Yemen                                 47.1    32.5\n",
       "Zambia                                26.5    55.7\n",
       "\n",
       "[189 rows x 2 columns]"
      ]
     },
     "execution_count": 20,
     "metadata": {},
     "output_type": "execute_result"
    }
   ],
   "source": [
    "gov_health_exp_pivoted = pd.pivot_table(gov_health_exp.loc[gov_health_exp['Year'].isin([2000, 2010])],values = 'Per_Capita_Expenditure', index=['Country'], columns=['Year']).dropna()\n",
    "gov_health_exp_pivoted"
   ]
  },
  {
   "cell_type": "code",
   "execution_count": 21,
   "id": "9c887a4b",
   "metadata": {},
   "outputs": [
    {
     "data": {
      "text/plain": [
       "Int64Index([2000, 2010], dtype='int64', name='Year')"
      ]
     },
     "execution_count": 21,
     "metadata": {},
     "output_type": "execute_result"
    }
   ],
   "source": [
    "gov_health_exp_pivoted.columns"
   ]
  },
  {
   "cell_type": "code",
   "execution_count": 22,
   "id": "25da2b4e",
   "metadata": {},
   "outputs": [
    {
     "name": "stdout",
     "output_type": "stream",
     "text": [
      "<class 'pandas.core.frame.DataFrame'>\n",
      "Index: 189 entries, Albania to Zambia\n",
      "Data columns (total 2 columns):\n",
      " #   Column  Non-Null Count  Dtype  \n",
      "---  ------  --------------  -----  \n",
      " 0   2000    189 non-null    float64\n",
      " 1   2010    189 non-null    float64\n",
      "dtypes: float64(2)\n",
      "memory usage: 4.4+ KB\n"
     ]
    },
    {
     "data": {
      "text/plain": [
       "pandas.core.frame.DataFrame"
      ]
     },
     "execution_count": 22,
     "metadata": {},
     "output_type": "execute_result"
    }
   ],
   "source": [
    "gov_health_exp_pivoted.info()\n",
    "type(gov_health_exp_pivoted)"
   ]
  },
  {
   "cell_type": "code",
   "execution_count": 24,
   "id": "6bda6944",
   "metadata": {},
   "outputs": [
    {
     "data": {
      "text/html": [
       "<div>\n",
       "<style scoped>\n",
       "    .dataframe tbody tr th:only-of-type {\n",
       "        vertical-align: middle;\n",
       "    }\n",
       "\n",
       "    .dataframe tbody tr th {\n",
       "        vertical-align: top;\n",
       "    }\n",
       "\n",
       "    .dataframe thead th {\n",
       "        text-align: right;\n",
       "    }\n",
       "</style>\n",
       "<table border=\"1\" class=\"dataframe\">\n",
       "  <thead>\n",
       "    <tr style=\"text-align: right;\">\n",
       "      <th>Year</th>\n",
       "      <th>2000</th>\n",
       "      <th>2010</th>\n",
       "      <th>Percentage_Change</th>\n",
       "    </tr>\n",
       "    <tr>\n",
       "      <th>Country</th>\n",
       "      <th></th>\n",
       "      <th></th>\n",
       "      <th></th>\n",
       "    </tr>\n",
       "  </thead>\n",
       "  <tbody>\n",
       "    <tr>\n",
       "      <th>Albania</th>\n",
       "      <td>96.2</td>\n",
       "      <td>217.3</td>\n",
       "      <td>125.883576</td>\n",
       "    </tr>\n",
       "    <tr>\n",
       "      <th>Algeria</th>\n",
       "      <td>138.0</td>\n",
       "      <td>291.0</td>\n",
       "      <td>110.869565</td>\n",
       "    </tr>\n",
       "    <tr>\n",
       "      <th>Andorra</th>\n",
       "      <td>1275.3</td>\n",
       "      <td>2293.1</td>\n",
       "      <td>79.808672</td>\n",
       "    </tr>\n",
       "    <tr>\n",
       "      <th>Angola</th>\n",
       "      <td>36.8</td>\n",
       "      <td>118.3</td>\n",
       "      <td>221.467391</td>\n",
       "    </tr>\n",
       "    <tr>\n",
       "      <th>Antigua and Barbuda</th>\n",
       "      <td>394.5</td>\n",
       "      <td>694.1</td>\n",
       "      <td>75.944233</td>\n",
       "    </tr>\n",
       "    <tr>\n",
       "      <th>...</th>\n",
       "      <td>...</td>\n",
       "      <td>...</td>\n",
       "      <td>...</td>\n",
       "    </tr>\n",
       "    <tr>\n",
       "      <th>Vanuatu</th>\n",
       "      <td>92.1</td>\n",
       "      <td>207.3</td>\n",
       "      <td>125.081433</td>\n",
       "    </tr>\n",
       "    <tr>\n",
       "      <th>Venezuela (Bolivarian Republic of)</th>\n",
       "      <td>200.0</td>\n",
       "      <td>248.9</td>\n",
       "      <td>24.450000</td>\n",
       "    </tr>\n",
       "    <tr>\n",
       "      <th>Viet Nam</th>\n",
       "      <td>22.8</td>\n",
       "      <td>80.1</td>\n",
       "      <td>251.315789</td>\n",
       "    </tr>\n",
       "    <tr>\n",
       "      <th>Yemen</th>\n",
       "      <td>47.1</td>\n",
       "      <td>32.5</td>\n",
       "      <td>-30.997877</td>\n",
       "    </tr>\n",
       "    <tr>\n",
       "      <th>Zambia</th>\n",
       "      <td>26.5</td>\n",
       "      <td>55.7</td>\n",
       "      <td>110.188679</td>\n",
       "    </tr>\n",
       "  </tbody>\n",
       "</table>\n",
       "<p>189 rows × 3 columns</p>\n",
       "</div>"
      ],
      "text/plain": [
       "Year                                  2000    2010  Percentage_Change\n",
       "Country                                                              \n",
       "Albania                               96.2   217.3         125.883576\n",
       "Algeria                              138.0   291.0         110.869565\n",
       "Andorra                             1275.3  2293.1          79.808672\n",
       "Angola                                36.8   118.3         221.467391\n",
       "Antigua and Barbuda                  394.5   694.1          75.944233\n",
       "...                                    ...     ...                ...\n",
       "Vanuatu                               92.1   207.3         125.081433\n",
       "Venezuela (Bolivarian Republic of)   200.0   248.9          24.450000\n",
       "Viet Nam                              22.8    80.1         251.315789\n",
       "Yemen                                 47.1    32.5         -30.997877\n",
       "Zambia                                26.5    55.7         110.188679\n",
       "\n",
       "[189 rows x 3 columns]"
      ]
     },
     "execution_count": 24,
     "metadata": {},
     "output_type": "execute_result"
    }
   ],
   "source": [
    "gov_health_exp_pivoted[\"Percentage_Change\"] = 100 * (gov_health_exp_pivoted[2010] - gov_health_exp_pivoted[2000])/ gov_health_exp_pivoted[2000]\n",
    "gov_health_exp_pivoted"
   ]
  },
  {
   "cell_type": "code",
   "execution_count": 25,
   "id": "569f7419",
   "metadata": {},
   "outputs": [
    {
     "data": {
      "text/html": [
       "<div>\n",
       "<style scoped>\n",
       "    .dataframe tbody tr th:only-of-type {\n",
       "        vertical-align: middle;\n",
       "    }\n",
       "\n",
       "    .dataframe tbody tr th {\n",
       "        vertical-align: top;\n",
       "    }\n",
       "\n",
       "    .dataframe thead th {\n",
       "        text-align: right;\n",
       "    }\n",
       "</style>\n",
       "<table border=\"1\" class=\"dataframe\">\n",
       "  <thead>\n",
       "    <tr style=\"text-align: right;\">\n",
       "      <th>Year</th>\n",
       "      <th>2000</th>\n",
       "      <th>2010</th>\n",
       "      <th>Percentage_Change</th>\n",
       "    </tr>\n",
       "    <tr>\n",
       "      <th>Country</th>\n",
       "      <th></th>\n",
       "      <th></th>\n",
       "      <th></th>\n",
       "    </tr>\n",
       "  </thead>\n",
       "  <tbody>\n",
       "    <tr>\n",
       "      <th>Chad</th>\n",
       "      <td>17.8</td>\n",
       "      <td>14.9</td>\n",
       "      <td>-16.292135</td>\n",
       "    </tr>\n",
       "    <tr>\n",
       "      <th>Eritrea</th>\n",
       "      <td>9.1</td>\n",
       "      <td>7.7</td>\n",
       "      <td>-15.384615</td>\n",
       "    </tr>\n",
       "    <tr>\n",
       "      <th>Lebanon</th>\n",
       "      <td>246.2</td>\n",
       "      <td>235.0</td>\n",
       "      <td>-4.549147</td>\n",
       "    </tr>\n",
       "    <tr>\n",
       "      <th>Nauru</th>\n",
       "      <td>407.0</td>\n",
       "      <td>190.4</td>\n",
       "      <td>-53.218673</td>\n",
       "    </tr>\n",
       "    <tr>\n",
       "      <th>Oman</th>\n",
       "      <td>536.9</td>\n",
       "      <td>478.9</td>\n",
       "      <td>-10.802757</td>\n",
       "    </tr>\n",
       "    <tr>\n",
       "      <th>San Marino</th>\n",
       "      <td>3241.8</td>\n",
       "      <td>2692.2</td>\n",
       "      <td>-16.953544</td>\n",
       "    </tr>\n",
       "    <tr>\n",
       "      <th>Sao Tome and Principe</th>\n",
       "      <td>124.2</td>\n",
       "      <td>53.2</td>\n",
       "      <td>-57.165862</td>\n",
       "    </tr>\n",
       "    <tr>\n",
       "      <th>Timor-Leste</th>\n",
       "      <td>65.3</td>\n",
       "      <td>62.7</td>\n",
       "      <td>-3.981623</td>\n",
       "    </tr>\n",
       "    <tr>\n",
       "      <th>Yemen</th>\n",
       "      <td>47.1</td>\n",
       "      <td>32.5</td>\n",
       "      <td>-30.997877</td>\n",
       "    </tr>\n",
       "  </tbody>\n",
       "</table>\n",
       "</div>"
      ],
      "text/plain": [
       "Year                     2000    2010  Percentage_Change\n",
       "Country                                                 \n",
       "Chad                     17.8    14.9         -16.292135\n",
       "Eritrea                   9.1     7.7         -15.384615\n",
       "Lebanon                 246.2   235.0          -4.549147\n",
       "Nauru                   407.0   190.4         -53.218673\n",
       "Oman                    536.9   478.9         -10.802757\n",
       "San Marino             3241.8  2692.2         -16.953544\n",
       "Sao Tome and Principe   124.2    53.2         -57.165862\n",
       "Timor-Leste              65.3    62.7          -3.981623\n",
       "Yemen                    47.1    32.5         -30.997877"
      ]
     },
     "execution_count": 25,
     "metadata": {},
     "output_type": "execute_result"
    }
   ],
   "source": [
    "gov_health_exp_pivoted[gov_health_exp_pivoted[\"Percentage_Change\"] < 0]"
   ]
  },
  {
   "cell_type": "code",
   "execution_count": 18,
   "id": "f2f0a848",
   "metadata": {},
   "outputs": [
    {
     "data": {
      "text/html": [
       "<div>\n",
       "<style scoped>\n",
       "    .dataframe tbody tr th:only-of-type {\n",
       "        vertical-align: middle;\n",
       "    }\n",
       "\n",
       "    .dataframe tbody tr th {\n",
       "        vertical-align: top;\n",
       "    }\n",
       "\n",
       "    .dataframe thead tr th {\n",
       "        text-align: left;\n",
       "    }\n",
       "\n",
       "    .dataframe thead tr:last-of-type th {\n",
       "        text-align: right;\n",
       "    }\n",
       "</style>\n",
       "<table border=\"1\" class=\"dataframe\">\n",
       "  <thead>\n",
       "    <tr>\n",
       "      <th></th>\n",
       "      <th colspan=\"2\" halign=\"left\">Per_Capita_Expenditure</th>\n",
       "      <th>Percentage_Change</th>\n",
       "    </tr>\n",
       "    <tr>\n",
       "      <th>Year</th>\n",
       "      <th>2000</th>\n",
       "      <th>2010</th>\n",
       "      <th></th>\n",
       "    </tr>\n",
       "    <tr>\n",
       "      <th>Country</th>\n",
       "      <th></th>\n",
       "      <th></th>\n",
       "      <th></th>\n",
       "    </tr>\n",
       "  </thead>\n",
       "  <tbody>\n",
       "    <tr>\n",
       "      <th>Iraq</th>\n",
       "      <td>0.9</td>\n",
       "      <td>280.5</td>\n",
       "      <td>31066.666667</td>\n",
       "    </tr>\n",
       "    <tr>\n",
       "      <th>Democratic Republic of the Congo</th>\n",
       "      <td>0.5</td>\n",
       "      <td>7.4</td>\n",
       "      <td>1380.000000</td>\n",
       "    </tr>\n",
       "  </tbody>\n",
       "</table>\n",
       "</div>"
      ],
      "text/plain": [
       "                                 Per_Capita_Expenditure         \\\n",
       "Year                                               2000   2010   \n",
       "Country                                                          \n",
       "Iraq                                                0.9  280.5   \n",
       "Democratic Republic of the Congo                    0.5    7.4   \n",
       "\n",
       "                                 Percentage_Change  \n",
       "Year                                                \n",
       "Country                                             \n",
       "Iraq                                  31066.666667  \n",
       "Democratic Republic of the Congo       1380.000000  "
      ]
     },
     "execution_count": 18,
     "metadata": {},
     "output_type": "execute_result"
    }
   ],
   "source": [
    "gov_health_exp_pivoted.nlargest(2, \"Percentage_Change\")"
   ]
  },
  {
   "cell_type": "code",
   "execution_count": 36,
   "id": "f39ff50c",
   "metadata": {},
   "outputs": [
    {
     "data": {
      "text/html": [
       "<div>\n",
       "<style scoped>\n",
       "    .dataframe tbody tr th:only-of-type {\n",
       "        vertical-align: middle;\n",
       "    }\n",
       "\n",
       "    .dataframe tbody tr th {\n",
       "        vertical-align: top;\n",
       "    }\n",
       "\n",
       "    .dataframe thead th {\n",
       "        text-align: right;\n",
       "    }\n",
       "</style>\n",
       "<table border=\"1\" class=\"dataframe\">\n",
       "  <thead>\n",
       "    <tr style=\"text-align: right;\">\n",
       "      <th>Year</th>\n",
       "      <th>2000</th>\n",
       "      <th>2010</th>\n",
       "      <th>Percentage_Change</th>\n",
       "    </tr>\n",
       "    <tr>\n",
       "      <th>Country</th>\n",
       "      <th></th>\n",
       "      <th></th>\n",
       "      <th></th>\n",
       "    </tr>\n",
       "  </thead>\n",
       "  <tbody>\n",
       "    <tr>\n",
       "      <th>India</th>\n",
       "      <td>17.0</td>\n",
       "      <td>35.6</td>\n",
       "      <td>109.411765</td>\n",
       "    </tr>\n",
       "  </tbody>\n",
       "</table>\n",
       "</div>"
      ],
      "text/plain": [
       "Year     2000  2010  Percentage_Change\n",
       "Country                               \n",
       "India    17.0  35.6         109.411765"
      ]
     },
     "execution_count": 36,
     "metadata": {},
     "output_type": "execute_result"
    }
   ],
   "source": [
    "gov_health_exp_pivoted.head(76).tail(1)"
   ]
  },
  {
   "cell_type": "code",
   "execution_count": null,
   "id": "bc1e2543",
   "metadata": {},
   "outputs": [],
   "source": [
    "gov_health_exp[gov_health_exp['Country']== 'United States of America'].sort_values('Year').plot.line(x='Year', y='Per_Capita_Expenditure')\n",
    "plt.xlabel('Year')\n",
    "plt.ylabel('Per_Capita_Expenditure')\n",
    "plt.title('United States Per_Capita_Expenditure');"
   ]
  },
  {
   "cell_type": "code",
   "execution_count": null,
   "id": "f0db0c0a",
   "metadata": {},
   "outputs": [],
   "source": [
    " gov_health_exp.loc[gov_health_exp['Country'].isin(['United States of America', 'India'])]\n"
   ]
  },
  {
   "cell_type": "code",
   "execution_count": null,
   "id": "18284071",
   "metadata": {},
   "outputs": [],
   "source": [
    "gov_health_exp[gov_health_exp['Country']== 'India'].sort_values('Year').plot.line(x='Year', y='Per_Capita_Expenditure', color = 'orange')\n",
    "plt.xlabel('Year')\n",
    "plt.ylabel('Per_Capita_Expenditure')\n",
    "plt.title('India Per_Capita_Expenditure');"
   ]
  },
  {
   "cell_type": "code",
   "execution_count": null,
   "id": "7674ef5e",
   "metadata": {},
   "outputs": [],
   "source": [
    "continents = pd.read_csv('../data/continents.csv')\n",
    "continents['Country'] = continents['Country'].str.replace('United States','United States of America')\n",
    "continents                                                          \n"
   ]
  },
  {
   "cell_type": "code",
   "execution_count": null,
   "id": "cf9d3ff5",
   "metadata": {},
   "outputs": [],
   "source": [
    "gov_health_exp = gov_health_exp.merge(continents, how ='inner')\n",
    "gov_health_exp"
   ]
  },
  {
   "cell_type": "code",
   "execution_count": null,
   "id": "da9ba3b3",
   "metadata": {},
   "outputs": [],
   "source": [
    "plt.figure(figsize = (8,6))\n",
    "sns.barplot(data = gov_health_exp.groupby(['Continent'])['Country'].nunique().to_frame().reset_index(), x ='Continent', \n",
    "            y='Country', \n",
    "            hue='Continent', \n",
    "            dodge=False)\n",
    "plt.ylabel('Number of Countries')\n",
    "plt.legend(bbox_to_anchor =(1.0, 1.0))\n",
    "plt.xticks(rotation =45);\n"
   ]
  },
  {
   "cell_type": "code",
   "execution_count": null,
   "id": "338cd08f",
   "metadata": {},
   "outputs": [],
   "source": [
    "plt.figure(figsize = (12,8))\n",
    "sns.boxplot(data = gov_health_exp[gov_health_exp['Year'] == 2010], x ='Continent', y ='Per_Capita_Expenditure')\n",
    "plt.xticks(rotation = 45);"
   ]
  },
  {
   "cell_type": "code",
   "execution_count": null,
   "id": "c8625c55",
   "metadata": {},
   "outputs": [],
   "source": [
    "gdp_df = pd.read_csv('../Data/gdp_per_capita.csv', nrows = 6868)\n",
    "gdp_df.head()"
   ]
  },
  {
   "cell_type": "code",
   "execution_count": null,
   "id": "588ef435",
   "metadata": {},
   "outputs": [],
   "source": [
    "gdp_df.info()"
   ]
  },
  {
   "cell_type": "code",
   "execution_count": null,
   "id": "2320a02c",
   "metadata": {},
   "outputs": [],
   "source": [
    "gdp_df = gdp_df.drop(columns = 'Value Footnotes')\n",
    "gdp_df = gdp_df.rename(columns = {'Country or Area':'Country', 'Year':'Year', 'Value': 'GDP_Per_Capita'})\n",
    "print (gdp_df)"
   ]
  },
  {
   "cell_type": "code",
   "execution_count": null,
   "id": "80592610",
   "metadata": {},
   "outputs": [],
   "source": [
    "gdp_df['Country'] = gdp_df['Country'].str.replace('United States','United States of America')\n",
    "gdp_df"
   ]
  },
  {
   "cell_type": "code",
   "execution_count": null,
   "id": "e367ccbe",
   "metadata": {},
   "outputs": [],
   "source": [
    "gov_exp_gdp =gov_health_exp.merge(gdp_df, how = 'inner')\n",
    "gov_exp_gdp"
   ]
  },
  {
   "cell_type": "code",
   "execution_count": null,
   "id": "a2e756b5",
   "metadata": {},
   "outputs": [],
   "source": [
    "gov_exp_gdp_2010 = gov_exp_gdp[gov_exp_gdp['Year'] == 2010]\n",
    "gov_exp_gdp_2010 "
   ]
  },
  {
   "cell_type": "code",
   "execution_count": null,
   "id": "f0fca375",
   "metadata": {},
   "outputs": [],
   "source": [
    "\n",
    "plt.figure(figsize = (12,8))\n",
    "sns.scatterplot(data = gov_exp_gdp_2010, x = 'Per_Capita_Expenditure', y = 'GDP_Per_Capita',\n",
    "                hue = 'Continent', edgecolor = 'black'\n",
    "               )\n",
    "plt.xlabel('Per_Capita_Expenditure, 2010')\n",
    "plt.ylabel('GDP_Per_Capita, 2010')\n",
    "plt.grid (True)\n",
    "plt.text(3966.7, 54359.134, 'United States')\n",
    "plt.title('Per_Capita_Expenditure, 2010 vs. GDP_Per_Capita, 2010')\n",
    "plt.legend(bbox_to_anchor =(1.0, 1.0));"
   ]
  },
  {
   "cell_type": "markdown",
   "id": "28cc59a6",
   "metadata": {},
   "source": [
    "Greater the GDP_Per_Capita greater is the per capita investment of government on health. \n",
    "\n",
    "Positive, directly proportional relationship between 2 variables.\n",
    "\n",
    "Although, There are a few countries that are somewhat far from the general trend. "
   ]
  },
  {
   "cell_type": "code",
   "execution_count": null,
   "id": "cee4a1c0",
   "metadata": {},
   "outputs": [],
   "source": [
    "gov_exp_gdp_2010[['Per_Capita_Expenditure', 'GDP_Per_Capita']].corr()"
   ]
  },
  {
   "cell_type": "markdown",
   "id": "6ca5049b",
   "metadata": {},
   "source": [
    "Did bring another data set life expectancy used in guided exploration project."
   ]
  },
  {
   "cell_type": "code",
   "execution_count": null,
   "id": "9ead9f1d",
   "metadata": {},
   "outputs": [],
   "source": [
    "life_expectancy = pd.read_csv('../data/API_SP.DYN.LE00.IN_DS2_en_csv_v2_4553490.csv', header = 2)\n",
    "life_expectancy = life_expectancy.drop(columns = ['Country Code', 'Indicator Name', 'Indicator Code'])\n",
    "life_expectancy"
   ]
  },
  {
   "cell_type": "code",
   "execution_count": null,
   "id": "e5f530ed",
   "metadata": {},
   "outputs": [],
   "source": [
    "life_expectancy = life_expectancy.melt(\n",
    "                  id_vars=\"Country Name\",\n",
    "                  var_name=\"Year\", \n",
    "                  value_name=\"life expectancy\")\n",
    "life_expectancy"
   ]
  },
  {
   "cell_type": "code",
   "execution_count": null,
   "id": "984a4e60",
   "metadata": {},
   "outputs": [],
   "source": [
    "life_expectancy['Country Name'] = life_expectancy['Country Name'].str.replace('United States','United States of America')\n",
    "life_expectancy"
   ]
  },
  {
   "cell_type": "code",
   "execution_count": null,
   "id": "049f0ae3",
   "metadata": {},
   "outputs": [],
   "source": [
    "gov_exp_gdp['Year'] = gov_exp_gdp['Year'].astype(str)"
   ]
  },
  {
   "cell_type": "code",
   "execution_count": null,
   "id": "3433054f",
   "metadata": {},
   "outputs": [],
   "source": [
    "gov_exp_gdp_le = pd.merge(left = gov_exp_gdp, \n",
    "         right = life_expectancy.rename(columns = {'Country Name': 'Country'}), \n",
    "         left_on = ['Country', 'Year'], \n",
    "         right_on = ['Country', 'Year'])\n",
    "gov_exp_gdp_le"
   ]
  },
  {
   "cell_type": "code",
   "execution_count": null,
   "id": "656bfdb8",
   "metadata": {},
   "outputs": [],
   "source": [
    "gov_exp_gdp_le['Year'] = gov_exp_gdp_le['Year'].astype(int)"
   ]
  },
  {
   "cell_type": "code",
   "execution_count": null,
   "id": "31c6b77f",
   "metadata": {},
   "outputs": [],
   "source": [
    "gov_exp_gdp_le_2010 = gov_exp_gdp_le[gov_exp_gdp_le['Year'] == 2010]\n",
    "gov_exp_gdp_le_2010"
   ]
  },
  {
   "cell_type": "code",
   "execution_count": null,
   "id": "530e4c45",
   "metadata": {},
   "outputs": [],
   "source": [
    "gov_exp_gdp_le_2010[gov_exp_gdp_le_2010['Country'] == 'India']\n"
   ]
  },
  {
   "cell_type": "code",
   "execution_count": null,
   "id": "1c63a1f9",
   "metadata": {},
   "outputs": [],
   "source": [
    "\n",
    "plt.figure(figsize = (12,8))\n",
    "sns.scatterplot(data = gov_exp_gdp_le_2010, x = 'life expectancy', y = 'Per_Capita_Expenditure',\n",
    "                hue = 'Continent', edgecolor = 'black'\n",
    "               )\n",
    "plt.xlabel('Life Expectancy')\n",
    "plt.ylabel('Per_Capita Expenditure 2010')\n",
    "plt.grid (True)\n",
    "plt.text(78.54, 3966.7,'United States')\n",
    "plt.title('Life expectancy vs. Per_Capita_Expenditure, 2010')\n",
    "plt.legend(bbox_to_anchor =(1.0, 1.0));"
   ]
  },
  {
   "cell_type": "code",
   "execution_count": null,
   "id": "d034c352",
   "metadata": {},
   "outputs": [],
   "source": [
    "gov_exp_gdp_le_2010[['life expectancy','Per_Capita_Expenditure']].corr()"
   ]
  },
  {
   "cell_type": "code",
   "execution_count": null,
   "id": "f8892bf8",
   "metadata": {},
   "outputs": [],
   "source": []
  },
  {
   "cell_type": "code",
   "execution_count": null,
   "id": "a2bf8b81",
   "metadata": {},
   "outputs": [],
   "source": []
  }
 ],
 "metadata": {
  "kernelspec": {
   "display_name": "Python 3 (ipykernel)",
   "language": "python",
   "name": "python3"
  },
  "language_info": {
   "codemirror_mode": {
    "name": "ipython",
    "version": 3
   },
   "file_extension": ".py",
   "mimetype": "text/x-python",
   "name": "python",
   "nbconvert_exporter": "python",
   "pygments_lexer": "ipython3",
   "version": "3.9.12"
  }
 },
 "nbformat": 4,
 "nbformat_minor": 5
}
